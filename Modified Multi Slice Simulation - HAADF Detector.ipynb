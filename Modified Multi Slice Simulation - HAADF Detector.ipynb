{
 "cells": [
  {
   "cell_type": "code",
   "execution_count": 85,
   "metadata": {
    "collapsed": true
   },
   "outputs": [],
   "source": [
    "## This program was developed to determine the intensity of a electron beam on a HAADF detector when the electron\n",
    "## beam passes through a wedge shaped material (1nm - 3 microns). The thickness ranges from one nm to few microns.\n",
    "## The program calculates elastic scattering from an electron beam per nm of the sample and also the absorption using\n",
    "## scattering coefficients, density, atomic number, absorption parameters and HAADF scattering angle and detector \n",
    "## parameters.\n",
    "## This program was named Modified Multi Slice simulation \n",
    "## @Aniruddha Dutta, 2014\n",
    "\n",
    "\n",
    "import numpy as np\n",
    "from numpy import *\n",
    "import matplotlib.pyplot as plt\n",
    "plt.ion()"
   ]
  },
  {
   "cell_type": "code",
   "execution_count": 86,
   "metadata": {},
   "outputs": [],
   "source": [
    "exec(open(\"/Users/Devil/pythonprograms/scatteringcoefficients.py\").read())\n",
    "exec(open(\"/Users/Devil/pythonprograms/density.py\").read())"
   ]
  },
  {
   "cell_type": "code",
   "execution_count": 87,
   "metadata": {},
   "outputs": [
    {
     "name": "stdout",
     "output_type": "stream",
     "text": [
      "Please enter the thickness of the sample slice in nm:10\n",
      "1e-08\n",
      "Please enter the total thickness of the sample in microns :3\n",
      "Thickness steps= 300.0\n",
      "Gamma = 1.586813186813187\n",
      "fb pre-factor = 3.3166038035603113e+18\n"
     ]
    }
   ],
   "source": [
    "#print \"This program uses a centered Intensity distribution: incident beam is centered \n",
    "#print  in the field of the diffraction and image plane\" and a corner center fb distribution \\n\"\n",
    "\n",
    "t = int(input(\"Please enter the thickness of the sample slice in nm:\"))  #thickness of sample slice in nanometer\n",
    "t = t*1E-9      # slice thickness in meter\n",
    "print(t)\n",
    "total_thickness = float(input(\"Please enter the total thickness of the sample in microns :\")) # total thickness of the sample in microns\n",
    "tend = float(total_thickness*1E-6/t)  #total number of thickness steps\n",
    "print(\"Thickness steps=\",tend)\n",
    "absorb = 0.0005    # absorption parameter\n",
    "dtheta = 0.002\n",
    "v = 300000         #voltage\n",
    "q = 1.602E-19     # charge of electron\n",
    "h = 6.62E-34      #plancks constannt\n",
    "m = 9.1E-31        # mass of electron\n",
    "c = 3E8            #speed of light\n",
    "gamma = 1+ (q*v/(m*c**2))       #relativistic correction\n",
    "print (\"Gamma =\",gamma) \n",
    "fbprefactor = 2*pi*gamma*m*q/(h**2)\n",
    "print (\"fb pre-factor =\" ,fbprefactor)\n",
    "lamda = h/(sqrt(2*m*q*v*(1+(q*v)/(2*m*c**2))))      #wavelength with relativistic correction"
   ]
  },
  {
   "cell_type": "code",
   "execution_count": 88,
   "metadata": {
    "collapsed": true
   },
   "outputs": [],
   "source": [
    "# HAADF detector parameters\n",
    "semiconv=0.0010          #define beam convergence\n",
    "mindetrange=0.052        #min HAADF scattering range\n",
    "maxdetrange=0.255        # max HAADF scattering range\n",
    "sconv=semiconv/dtheta\n",
    "mindet=mindetrange/dtheta\n",
    "maxdet=maxdetrange/dtheta\n",
    "thetamin =0.0\n",
    "thetamax = 3.141\n",
    "bigstep=1\n",
    "n=512\n",
    "domega=2*sin(dtheta*n/2)/n\n",
    "epsilonabs=0.01"
   ]
  },
  {
   "cell_type": "code",
   "execution_count": 89,
   "metadata": {},
   "outputs": [
    {
     "name": "stdout",
     "output_type": "stream",
     "text": [
      "Please enter the atomic number of the element :79\n",
      "The atomic number of the element is : 79\n",
      "Density of the material is : 5.9016e+28\n",
      "Scattering coefficient = [  7.90000000e+01   3.05500000e-01   1.39450000e+00   2.96170000e+00\n",
      "   3.89900000e+00   2.00260000e+00   5.96000000e-02   5.82700000e-01\n",
      "   3.10350000e+00   1.19693000e+01   4.79106000e+01]\n"
     ]
    }
   ],
   "source": [
    "atomic_number=int(input(\"Please enter the atomic number of the element :\"))\n",
    "print (\"The atomic number of the element is :\",atomic_number)\n",
    "coeff=scatcoeff[atomic_number-1]   # scattering coeffient\n",
    "scatcoeff[atomic_number-1][0]==density[atomic_number-1][1]\n",
    "print (\"Density of the material is :\",density[atomic_number-1][1])\n",
    "rho=density[atomic_number-1][1]\n",
    "print (\"Scattering coefficient =\", coeff)\n",
    "fbtotal=0\n",
    "import timeit   #timer program\n",
    "start = timeit.default_timer()  #timer starts"
   ]
  },
  {
   "cell_type": "code",
   "execution_count": 90,
   "metadata": {
    "collapsed": true
   },
   "outputs": [],
   "source": [
    "scatter =np.zeros((n,n))\n",
    "omega=np.zeros((n,n))\n",
    "SF2total=0          # Elastic scattering\n",
    "SF2Imtotal=0        # Absorptive scattering\n",
    "fb2total=0           # Total scattering"
   ]
  },
  {
   "cell_type": "code",
   "execution_count": 91,
   "metadata": {},
   "outputs": [
    {
     "name": "stdout",
     "output_type": "stream",
     "text": [
      "center= 256\n"
     ]
    }
   ],
   "source": [
    "#print Array\n",
    "\n",
    "center=n//2\n",
    "print (\"center=\",center)\n",
    "for x in arange(0,center+1,1):   # determining position \n",
    "    for y in arange(0,center+1,1):\n",
    "        omega[x,y]=round((sqrt((x)**2+(y)**2)),2)*domega\n",
    "    for y in arange (center+1,n,1):\n",
    "        ypos=n-y\n",
    "        omega[x,y]=round((sqrt((x)**2+(ypos)**2)),2)*domega\n",
    "for x in arange(center+1,n,1):\n",
    "    xpos=n-x\n",
    "    for y in arange(0,center+1,1):\n",
    "        omega[x,y]=round((sqrt((xpos)**2+(y)**2)),2)*domega\n",
    "    for y in arange (center+1,n,1):\n",
    "        ypos=n-y\n",
    "        omega[x,y]=round((sqrt((xpos)**2+(ypos)**2)),2)*domega       "
   ]
  },
  {
   "cell_type": "code",
   "execution_count": 92,
   "metadata": {},
   "outputs": [],
   "source": [
    "for x in arange(0,n,1):\n",
    "    for y in arange(0,n,1):\n",
    "        sintheta=sqrt(0.5)*sqrt(1.-sqrt(1.-omega[x,y]**2))\n",
    "        s2=sintheta/lamda\n",
    "        for i in arange(1,6,1):\n",
    "            SF2=coeff[i]*(e**(-coeff[i+5]*10**(-20)*s2**2))           # for intensity\n",
    "            SF2total = SF2total + SF2\n",
    "            #SF2Im=matrixIm[i]*(e**(-matrixIm[i+5]*10**(-20)*s2**2))   # for absorption\n",
    "            #SF2Imtotal=SF2Imtotal + SF2Im                             # total absorption\n",
    "        fe2= 0.04787E-27*SF2total        #test/2.\n",
    "        #fe2Im=0.04787E-27*SF2Imtotal\n",
    "        scatter[x,y]=fe2*fe2     #q in the equation in copy\n",
    "        #fb2total=fb2total+fe2*fe2   \n",
    "        SF2total=0\n",
    "        #SF2Imtotal=0\n",
    "        #print \"fb2total=\", fb2total"
   ]
  },
  {
   "cell_type": "code",
   "execution_count": 93,
   "metadata": {},
   "outputs": [
    {
     "name": "stdout",
     "output_type": "stream",
     "text": [
      "sum of Array is:  0.855872012101\n",
      "absorption  0.0005\n"
     ]
    }
   ],
   "source": [
    "##----------------------------array of fb2------------------------------------\n",
    "\n",
    "#print \"Array of fb values:\\n \\n\",array[x,y]\n",
    "        \n",
    "scatter=scatter*rho*t*fbprefactor**2*domega**2     \n",
    "scatter[0,0]=0                        #scattering at the center is zero\n",
    "sumscatter=np.sum(scatter)\n",
    "#fb2total=fb2total*rho*t*fbprefactor**2*domega**2 #total scattering\n",
    "print (\"sum of Array is: \",sumscatter)\n",
    "abspar=1.-sumscatter*absorb\n",
    "print (\"absorption \", absorb)"
   ]
  },
  {
   "cell_type": "code",
   "execution_count": 94,
   "metadata": {},
   "outputs": [
    {
     "name": "stdout",
     "output_type": "stream",
     "text": [
      "\n",
      " Arrays defined\n"
     ]
    }
   ],
   "source": [
    "##----------------------------Finding sum of array-----------\n",
    "#sumI2=coeff[1]+coeff[2]+coeff[3]+coeff[4]+coeff[5]\n",
    "#sumI2=(sumI2*0.04787E-27)**2*rho*t*fbprefactor**2*domega**2\n",
    "\n",
    "#fb2total=fb2total-sumI2            \n",
    "#fb2total=fb2total*(1.+epsilonabs)         \n",
    "#sumI2=matrixIm[1]+matrixIm[2]+matrixIm[3]+matrixIm[4]+matrixIm[5]\n",
    "#sumI2=(sumI2*0.04787E-27)**2*rho*t*fbprefactor**2*domega**2\n",
    "\n",
    "#print \"value real,1-absorption of 0,0 \", fb2total, sumI2\n",
    "#fb2total=fb2total+sumI2\n",
    "#----------------------------Initialize I0-----------------------\n",
    "\n",
    "\n",
    "#print \"\\n----------------------Initialize I0 initial beam--------------------------\\n\"\n",
    "fscatter=np.zeros((n,n))     #fourier of scatter\n",
    "Itarray =np.zeros((n,n))     #initial beam\n",
    "Iftarray=np.zeros((n,n))\n",
    "detarray =np.zeros((n,n))\n",
    "fresnel=np.zeros((n,n))    # fresnel propagator \n",
    "Itfresnel=np.zeros((n,n))\n",
    "print (\"\\n Arrays defined\")\n",
    "#print I0array\n",
    "#print \"\\nCenter of array is:\",center\n",
    "#the beam convergence is 5mrad for 2theta\n",
    "\n",
    "counter =0\n",
    "for x in arange(0,n,1):\n",
    "    xpos=abs(x-center)\n",
    "    for y in arange(0,n,1):\n",
    "        ypos=abs(y-center)\n",
    "        distval=round((sqrt((xpos)**2+(ypos)**2)),2)\n",
    "        fresnel[x,y]=1/sqrt(1.-omega[xpos,ypos]**2)      # Fresnel propagator\n",
    "        if sconv>distval:\n",
    "            counter= counter+1\n",
    "            Itarray[x,y]=1\n",
    "        if maxdet>distval and mindet<=distval:\n",
    "            detarray[x,y]=1"
   ]
  },
  {
   "cell_type": "code",
   "execution_count": 95,
   "metadata": {},
   "outputs": [
    {
     "name": "stdout",
     "output_type": "stream",
     "text": [
      "\n",
      "Intensity is:  0.0  0 \n",
      " \n",
      "counter =  1\n",
      "\n",
      " 0.855872012101 (2.27373675443e-13+2.01948391737e-28j) 287704.094173 1.0\n"
     ]
    }
   ],
   "source": [
    "Itarray=Itarray/counter\n",
    "#print \"\\nCounter counts no. of entries into I0 array:\",counter\n",
    "\n",
    "Intensity=np.sum(Itarray*detarray)\n",
    "print (\"\\nIntensity is: \",Intensity, \" 0 \\n \")\n",
    "print (\"counter = \", counter)\n",
    "#print \"\\nNormalized Array of I0 is:\\n \"\n",
    "#print Itarray initial\n",
    "\n",
    "fscatter=np.fft.fft2(scatter)     #FFT of scatter\n",
    "yval=[]\n",
    "xval=[]\n",
    "\n",
    "print (\"\\n\", np.sum(scatter),np.sum(fscatter),np.sum(fresnel),np.sum(Itarray))"
   ]
  },
  {
   "cell_type": "code",
   "execution_count": 96,
   "metadata": {},
   "outputs": [
    {
     "data": {
      "image/png": "[encoded data removed]",
      "text/plain": [
       "<matplotlib.figure.Figure at 0x114f71208>"
      ]
     },
     "metadata": {},
     "output_type": "display_data"
    }
   ],
   "source": [
    "import time\n",
    "import os\n",
    "os.chdir(\"/Users/Devil/pythonprograms/\")\n",
    "f= open(\"Au_absorption_2mic_10nm_absorp.txt\", \"w\")   # opening file to write\n",
    "\n",
    "#print scatter(0,0), Intensity.real\n",
    "\n",
    "intreal = []\n",
    "thickness = []\n",
    "\n",
    "for tstep in arange (1,tend,1):\n",
    "    #plt.clf()\n",
    "    Itfresnel=fresnel*Itarray     # Fresnel propagator times intensity array\n",
    "    Iftarray=np.fft.fft2(Itfresnel)\n",
    "    Iftarray=Iftarray*fscatter\n",
    "    #print \"\\n \",np.sum(Iftarray),np.sum(fscatter)\n",
    "    Itarray = (Itarray-Itfresnel*sumscatter+np.fft.ifft2(Iftarray))*abspar\n",
    "    Intensity = np.sum(Itarray*detarray)\n",
    "    thick = tstep*t*10**9                   # increasing thickness in nm\n",
    "    #print (thick, \"\\t\", Intensity.real)\n",
    "    intreal.append(Intensity.real)\n",
    "    thickness.append(thick)\n",
    "    f.write(str(thick) + '\\t' + str(Intensity.real) + '\\n')\n",
    "    \n",
    "f.close()\n",
    "plt.title('HAADF Detector intensity for a wedge shaped Au sample', fontsize=16)\n",
    "plt.xlabel('Thickness (nm)', fontsize=16)\n",
    "plt.ylabel('HAADF Detector Intensity', fontsize=16)\n",
    "plt.plot(thickness,intreal)\n",
    "stop = timeit.default_timer()   # timer stops"
   ]
  }
 ],
 "metadata": {
  "kernelspec": {
   "display_name": "Python 3",
   "language": "python",
   "name": "python3"
  },
  "language_info": {
   "codemirror_mode": {
    "name": "ipython",
    "version": 3
   },
   "file_extension": ".py",
   "mimetype": "text/x-python",
   "name": "python",
   "nbconvert_exporter": "python",
   "pygments_lexer": "ipython3",
   "version": "3.6.1"
  }
 },
 "nbformat": 4,
 "nbformat_minor": 2
}
